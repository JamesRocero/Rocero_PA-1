{
 "cells": [
  {
   "cell_type": "markdown",
   "id": "0e8d740b-a527-4b9c-ba0f-e2a09f21ef23",
   "metadata": {},
   "source": [
    "# ALPHABET SOUP PROBLEM"
   ]
  },
  {
   "cell_type": "code",
   "execution_count": 2,
   "id": "5c2e1a5b-d4c5-4968-b10c-05ed5c6a99f3",
   "metadata": {},
   "outputs": [
    {
     "name": "stdout",
     "output_type": "stream",
     "text": [
      "ehllo\n",
      "acehkr\n"
     ]
    }
   ],
   "source": [
    "def alphabet_soup(s):\n",
    "    #Sort the characters in the string into alphabetical order.\n",
    "    print (\"\". join(sorted(s)))\n",
    "                          \n",
    "#Use a string to execute the function.\n",
    "alphabet_soup(\"hello\")\n",
    "alphabet_soup(\"hacker\")"
   ]
  },
  {
   "cell_type": "markdown",
   "id": "89edb18e-a54c-400b-bbeb-4ffd44300a23",
   "metadata": {},
   "source": [
    "# EMOTICON PROBLEM"
   ]
  },
  {
   "cell_type": "code",
   "execution_count": 4,
   "id": "2bec5810-144d-4d7c-b81c-f1b170ff14ab",
   "metadata": {},
   "outputs": [
    {
     "name": "stdout",
     "output_type": "stream",
     "text": [
      "Make me :)\n",
      "I am >:(\n"
     ]
    }
   ],
   "source": [
    "def emotify(s):\n",
    "    #Delete \"Smile\" and replace \":)\" instead.\n",
    "    s = s.replace (\"Smile\", \":)\")\n",
    "    #Delete \"Grin\" and replace \":D\" instead.\n",
    "    s = s.replace (\"Grin\", \":D)\")\n",
    "    #Delete \"Sad\" and replace \":)((\" instead.\n",
    "    s = s.replace (\"Sad\", \":((\")\n",
    "    #Delete \"Mad\" and replace \">:(\" instead.\n",
    "    s = s.replace (\"Mad\", \">:(\")\n",
    "    #Return the modified string with s.\n",
    "    return s\n",
    "    #Print the emotify function's output.\n",
    "print(emotify(\"Make me Smile\"))\n",
    "print(emotify(\"I am Mad\"))"
   ]
  },
  {
   "cell_type": "markdown",
   "id": "a99df059-a7ec-402b-973f-84ac86cbd82b",
   "metadata": {},
   "source": [
    "# UNPACKING LIST PROBLEM"
   ]
  },
  {
   "cell_type": "code",
   "execution_count": 6,
   "id": "f05779b3-d873-4960-9a37-d6a977b2d19b",
   "metadata": {},
   "outputs": [
    {
     "name": "stdout",
     "output_type": "stream",
     "text": [
      "first: 1,   middle: [2, 3, 4, 5],   last: 6\n"
     ]
    }
   ],
   "source": [
    "def unpack_list(lst):\n",
    "    #Unpack the first element\n",
    "    first = lst[0]\n",
    "    # Unpack the middle elements (every component excluding the initial and final)\n",
    "    middle = lst[1:-1]\n",
    "    # Unpack the last element\n",
    "    last = lst[-1]\n",
    "    # Print the results\n",
    "    print (\"first: {},   middle: {},   last: {}\". format(first, middle, last))\n",
    "\n",
    "unpack_list (lst = [1, 2, 3, 4, 5, 6])"
   ]
  },
  {
   "cell_type": "code",
   "execution_count": null,
   "id": "8a38802b-04c9-4f82-b7ae-d864736cadba",
   "metadata": {},
   "outputs": [],
   "source": []
  }
 ],
 "metadata": {
  "kernelspec": {
   "display_name": "Python 3 (ipykernel)",
   "language": "python",
   "name": "python3"
  },
  "language_info": {
   "codemirror_mode": {
    "name": "ipython",
    "version": 3
   },
   "file_extension": ".py",
   "mimetype": "text/x-python",
   "name": "python",
   "nbconvert_exporter": "python",
   "pygments_lexer": "ipython3",
   "version": "3.12.4"
  }
 },
 "nbformat": 4,
 "nbformat_minor": 5
}
